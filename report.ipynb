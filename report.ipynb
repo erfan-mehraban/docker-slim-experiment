{
 "cells": [
  {
   "cell_type": "code",
   "execution_count": 15,
   "id": "b0d42461",
   "metadata": {},
   "outputs": [
    {
     "data": {
      "text/html": [
       "<div>\n",
       "<style scoped>\n",
       "    .dataframe tbody tr th:only-of-type {\n",
       "        vertical-align: middle;\n",
       "    }\n",
       "\n",
       "    .dataframe tbody tr th {\n",
       "        vertical-align: top;\n",
       "    }\n",
       "\n",
       "    .dataframe thead th {\n",
       "        text-align: right;\n",
       "    }\n",
       "</style>\n",
       "<table border=\"1\" class=\"dataframe\">\n",
       "  <thead>\n",
       "    <tr style=\"text-align: right;\">\n",
       "      <th></th>\n",
       "      <th>image_name</th>\n",
       "      <th>minified_by</th>\n",
       "      <th>actual_size</th>\n",
       "      <th>minified_size</th>\n",
       "    </tr>\n",
       "  </thead>\n",
       "  <tbody>\n",
       "    <tr>\n",
       "      <th>0</th>\n",
       "      <td>memcached:1.6.15</td>\n",
       "      <td>11.543517</td>\n",
       "      <td>89 MB</td>\n",
       "      <td>7.7 MB</td>\n",
       "    </tr>\n",
       "    <tr>\n",
       "      <th>1</th>\n",
       "      <td>postgres:14.3-alpine</td>\n",
       "      <td>0.967991</td>\n",
       "      <td>189 MB</td>\n",
       "      <td>195 MB</td>\n",
       "    </tr>\n",
       "    <tr>\n",
       "      <th>2</th>\n",
       "      <td>redis:7.0.0</td>\n",
       "      <td>3.509783</td>\n",
       "      <td>117 MB</td>\n",
       "      <td>33 MB</td>\n",
       "    </tr>\n",
       "    <tr>\n",
       "      <th>3</th>\n",
       "      <td>nginx:1.22.0</td>\n",
       "      <td>13.037757</td>\n",
       "      <td>142 MB</td>\n",
       "      <td>11 MB</td>\n",
       "    </tr>\n",
       "    <tr>\n",
       "      <th>4</th>\n",
       "      <td>mongo:5.0.8</td>\n",
       "      <td>2.836720</td>\n",
       "      <td>690 MB</td>\n",
       "      <td>243 MB</td>\n",
       "    </tr>\n",
       "  </tbody>\n",
       "</table>\n",
       "</div>"
      ],
      "text/plain": [
       "             image_name  minified_by actual_size minified_size\n",
       "0      memcached:1.6.15    11.543517       89 MB        7.7 MB\n",
       "1  postgres:14.3-alpine     0.967991      189 MB        195 MB\n",
       "2           redis:7.0.0     3.509783      117 MB         33 MB\n",
       "3          nginx:1.22.0    13.037757      142 MB         11 MB\n",
       "4           mongo:5.0.8     2.836720      690 MB        243 MB"
      ]
     },
     "execution_count": 15,
     "metadata": {},
     "output_type": "execute_result"
    }
   ],
   "source": [
    "import pandas as pd\n",
    "import os, json\n",
    "\n",
    "images=[\"memecached\", \"postgres\", \"redis\", \"nginx\", \"mongo\"]\n",
    "\n",
    "rows = []\n",
    "for image in images:\n",
    "    with open(f\"./{image}/slim.report.json\") as report_file:\n",
    "        report = json.load(report_file)\n",
    "        row = [report['target_reference'],\n",
    "               report['minified_by'],\n",
    "               report['source_image']['size_human'],\n",
    "               report['minified_image_size_human'],\n",
    "              ]\n",
    "        rows.append(row)\n",
    "rows\n",
    "df = pd.DataFrame(rows, columns=['image_name', 'minified_by', 'actual_size', 'minified_size'])\n",
    "df"
   ]
  },
  {
   "cell_type": "code",
   "execution_count": 22,
   "id": "4253ab49",
   "metadata": {},
   "outputs": [],
   "source": [
    "df.to_markdown('small-report.md', index=False)"
   ]
  }
 ],
 "metadata": {
  "kernelspec": {
   "display_name": "Python 3 (ipykernel)",
   "language": "python",
   "name": "python3"
  },
  "language_info": {
   "codemirror_mode": {
    "name": "ipython",
    "version": 3
   },
   "file_extension": ".py",
   "mimetype": "text/x-python",
   "name": "python",
   "nbconvert_exporter": "python",
   "pygments_lexer": "ipython3",
   "version": "3.9.0"
  }
 },
 "nbformat": 4,
 "nbformat_minor": 5
}
